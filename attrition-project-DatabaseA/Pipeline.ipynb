{
 "cells": [
  {
   "cell_type": "markdown",
   "id": "f39d98ca-29f3-4cba-8352-91be8997bf66",
   "metadata": {},
   "source": [
    "Google Docs Cuestionario\n",
    "https://docs.google.com/forms/d/e/1FAIpQLSccDh3faFOi4aIeM9IgHzwcfL-dyBRgE1Jy0blQFgXbMIijkQ/viewform\n",
    "\n",
    "Google Sheets Almacenamiento\n",
    "https://docs.google.com/spreadsheets/d/1acTNyZUaHN5RutekGCLvyJolMM-l9CvC_KD8Pdd8DlI/edit?gid=702761399#gid=702761399"
   ]
  },
  {
   "cell_type": "code",
   "execution_count": 8,
   "id": "f7e464ce-d86f-4a0b-84fb-1eb6b9e80dba",
   "metadata": {},
   "outputs": [
    {
     "name": "stdout",
     "output_type": "stream",
     "text": [
      "Predicciones completadas y guardadas en 'resultados.csv'.\n"
     ]
    }
   ],
   "source": [
    "import pandas as pd\n",
    "import catboost\n",
    "import joblib  # Para guardar y cargar el modelo\n",
    "import numpy as np\n",
    "\n",
    "# Función para cargar datos\n",
    "def load_data(source):\n",
    "    \"\"\"\n",
    "    Carga datos desde una fuente.\n",
    "    source puede ser un archivo, una URL, o datos directamente en forma de DataFrame.\n",
    "    \"\"\"\n",
    "    if isinstance(source, str):\n",
    "        if source.endswith('.csv'):\n",
    "            return pd.read_csv(source)\n",
    "        elif source.startswith('http'):\n",
    "            return pd.read_csv(source)  # Para Google Sheets exportados como CSV\n",
    "        else:\n",
    "            raise ValueError(\"Formato no soportado para la fuente.\")\n",
    "    elif isinstance(source, pd.DataFrame):\n",
    "        return source\n",
    "    else:\n",
    "        raise ValueError(\"El tipo de fuente no es válido.\")\n",
    "\n",
    "# Función de preprocesamiento\n",
    "def preprocess_data(data):\n",
    "    \"\"\"\n",
    "    Preprocesa los datos para que estén listos para el modelo.\n",
    "    \"\"\"\n",
    "    data = data.drop(columns=['Marca temporal', 'Employee_ID'])\n",
    "    return data\n",
    "\n",
    "# Función principal de predicción\n",
    "def predict(data, model_path):\n",
    "    \"\"\"\n",
    "    Recibe los datos y un modelo CatBoost entrenado para realizar predicciones.\n",
    "    \"\"\"\n",
    "    # Cargar el modelo entrenado\n",
    "    model = catboost.CatBoostClassifier()  # Cambia a CatBoostRegressor si es un problema de regresión\n",
    "    model.load_model(model_path)\n",
    "\n",
    "    # Preprocesar datos\n",
    "    processed_data = preprocess_data(data)\n",
    "\n",
    "    # Realizar predicciones\n",
    "    predictions = model.predict(processed_data)\n",
    "\n",
    "    return predictions\n",
    "\n",
    "# Ejemplo de uso\n",
    "if __name__ == \"__main__\":\n",
    "    # Ruta al modelo\n",
    "    model_path = \"cat_boost_model_Attrition_Rate_2024-12-10.cbm\"\n",
    "\n",
    "    # Lista de columnas categóricas\n",
    "    cat_features = ['Gender',\n",
    " 'Relationship_Status',\n",
    " 'Hometown',\n",
    " 'Unit',\n",
    " 'Decision_skill_possess',\n",
    " 'Compensation_and_Benefits']\n",
    "\n",
    "    # Cargar datos desde un archivo\n",
    "    data = load_data(\"AR Quest - Respuestas de formulario 1.csv\")\n",
    "\n",
    "    # Obtener predicciones\n",
    "    resultados = predict(data, model_path)\n",
    "\n",
    "    # Guardar resultados\n",
    "    data['Predicciones'] = resultados\n",
    "    data.to_csv(\"resultados.csv\", index=False)\n",
    "\n",
    "    print(\"Predicciones completadas y guardadas en 'resultados.csv'.\")"
   ]
  }
 ],
 "metadata": {
  "kernelspec": {
   "display_name": "Python 3 (ipykernel)",
   "language": "python",
   "name": "python3"
  },
  "language_info": {
   "codemirror_mode": {
    "name": "ipython",
    "version": 3
   },
   "file_extension": ".py",
   "mimetype": "text/x-python",
   "name": "python",
   "nbconvert_exporter": "python",
   "pygments_lexer": "ipython3",
   "version": "3.12.4"
  }
 },
 "nbformat": 4,
 "nbformat_minor": 5
}
