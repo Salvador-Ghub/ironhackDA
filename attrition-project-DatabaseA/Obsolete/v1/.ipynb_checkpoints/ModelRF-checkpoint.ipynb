{
 "cells": [
  {
   "cell_type": "code",
   "execution_count": 1,
   "id": "1028823c-8961-4fa5-b92e-4d97e9a1fba4",
   "metadata": {},
   "outputs": [],
   "source": [
    "# Importación de pandas para traspasar el dataset de CSV a dataframe\n",
    "import pandas as pd\n",
    "import numpy as np\n",
    "import seaborn as sns\n",
    "import matplotlib.pyplot as plt\n",
    "df_Train_clean = pd.read_csv('df_Train_clean.csv')\n",
    "df_step_0 = df_Train_clean"
   ]
  },
  {
   "cell_type": "code",
   "execution_count": 4,
   "id": "bc795af8-6425-4f93-b8a5-5a52c325b122",
   "metadata": {},
   "outputs": [
    {
     "name": "stdout",
     "output_type": "stream",
     "text": [
      "Mean Squared Error: 0.037534624665813573\n",
      "Predicciones: [0.225206 0.18011  0.232035 ... 0.23783  0.154134 0.226321]\n",
      "{'Mean Squared Error (MSE)': 0.037534624665813573, 'Root Mean Squared Error (RMSE)': 0.19373854718618486, 'Mean Absolute Error (MAE)': 0.13629006500000002, 'R^2': -0.07819810354086898}\n"
     ]
    },
    {
     "name": "stderr",
     "output_type": "stream",
     "text": [
      "C:\\Users\\smont\\anaconda3\\Lib\\site-packages\\sklearn\\metrics\\_regression.py:483: FutureWarning: 'squared' is deprecated in version 1.4 and will be removed in 1.6. To calculate the root mean squared error, use the function'root_mean_squared_error'.\n",
      "  warnings.warn(\n"
     ]
    }
   ],
   "source": [
    "from sklearn.ensemble import RandomForestRegressor\n",
    "from sklearn.model_selection import train_test_split\n",
    "from sklearn.metrics import mean_squared_error, mean_absolute_error, r2_score\n",
    "\n",
    "df = df_step_0\n",
    "\n",
    "# Separar características y objetivo\n",
    "X = df.drop('Attrition_rate', axis=1)\n",
    "y = df['Attrition_rate']\n",
    "\n",
    "# Dividir en conjunto de entrenamiento y prueba\n",
    "X_train, X_test, y_train, y_test = train_test_split(X, y, test_size=0.2, random_state=42)\n",
    "\n",
    "# Crear el modelo de Random Forest Regressor\n",
    "rf = RandomForestRegressor(n_estimators=100, random_state=42)\n",
    "\n",
    "# Entrenar el modelo\n",
    "rf.fit(X_train, y_train)\n",
    "\n",
    "# Hacer predicciones\n",
    "y_pred = rf.predict(X_test)\n",
    "\n",
    "# Evaluar el modelo\n",
    "mse = mean_squared_error(y_test, y_pred)\n",
    "print(\"Mean Squared Error:\", mse)\n",
    "print(\"Predicciones:\", y_pred)\n",
    "\n",
    "# Calcular las métricas de evaluación\n",
    "mse = mean_squared_error(y_test, y_pred)\n",
    "rmse = mean_squared_error(y_test, y_pred, squared=False)\n",
    "mae = mean_absolute_error(y_test, y_pred)\n",
    "r2 = r2_score(y_test, y_pred)\n",
    "\n",
    "# Guardar las métricas en un diccionario\n",
    "metrics = {\n",
    "    'Mean Squared Error (MSE)': mse,\n",
    "    'Root Mean Squared Error (RMSE)': rmse,\n",
    "     'Mean Absolute Error (MAE)': mae,\n",
    "     'R^2': r2\n",
    "}\n",
    "print(metrics)"
   ]
  },
  {
   "cell_type": "code",
   "execution_count": 5,
   "id": "88f03d53-f8ce-478e-b7ee-255e0437fe24",
   "metadata": {},
   "outputs": [
    {
     "name": "stdout",
     "output_type": "stream",
     "text": [
      "Mejores parámetros: {'max_depth': 10, 'min_samples_leaf': 4, 'min_samples_split': 2, 'n_estimators': 300}\n",
      "MSE del modelo ajustado: 0.035370652998662974\n"
     ]
    }
   ],
   "source": [
    "from sklearn.model_selection import GridSearchCV\n",
    "# 26 minutes of execution process\n",
    "# Definir los parámetros que quieres ajustar\n",
    "# param_grid = {\n",
    "#     'n_estimators': [100, 200, 300],\n",
    "#     'max_depth': [None, 10, 20, 30],\n",
    "#     'min_samples_split': [2, 5, 10],\n",
    "#     'min_samples_leaf': [1, 2, 4]\n",
    "# }\n",
    "\n",
    "# # Crear un modelo de Random Forest\n",
    "# rf = RandomForestRegressor(random_state=42)\n",
    "\n",
    "# # Usar GridSearchCV para encontrar los mejores parámetros\n",
    "# grid_search = GridSearchCV(estimator=rf, param_grid=param_grid, cv=5, scoring='neg_mean_squared_error')\n",
    "# grid_search.fit(X_train, y_train)\n",
    "\n",
    "# # Ver los mejores parámetros encontrados\n",
    "# print(\"Mejores parámetros:\", grid_search.best_params_)\n",
    "\n",
    "# # Entrenar el modelo con los mejores parámetros\n",
    "# best_rf = grid_search.best_estimator_\n",
    "# y_pred = best_rf.predict(X_test)\n",
    "\n",
    "# # Evaluar el modelo\n",
    "# from sklearn.metrics import mean_squared_error\n",
    "# mse = mean_squared_error(y_test, y_pred)\n",
    "# print(\"MSE del modelo ajustado:\", mse)\n",
    "\n",
    "# Mejores parámetros: {'max_depth': 10, 'min_samples_leaf': 4, 'min_samples_split': 2, 'n_estimators': 300}\n",
    "# MSE del modelo ajustado: 0.035370652998662974"
   ]
  },
  {
   "cell_type": "code",
   "execution_count": 6,
   "id": "5b584188-48c8-44aa-ba56-8d2dac276f53",
   "metadata": {},
   "outputs": [
    {
     "name": "stdout",
     "output_type": "stream",
     "text": [
      "Mean Squared Error: 0.035370652998662974\n",
      "Predicciones: [0.23988931 0.178542   0.20969768 ... 0.20371181 0.17500331 0.18243879]\n",
      "{'Mean Squared Error (MSE)': 0.035370652998662974, 'Root Mean Squared Error (RMSE)': 0.18807087227601985, 'Mean Absolute Error (MAE)': 0.1275841850603343, 'R^2': -0.016037094381690986}\n"
     ]
    },
    {
     "name": "stderr",
     "output_type": "stream",
     "text": [
      "C:\\Users\\smont\\anaconda3\\Lib\\site-packages\\sklearn\\metrics\\_regression.py:483: FutureWarning: 'squared' is deprecated in version 1.4 and will be removed in 1.6. To calculate the root mean squared error, use the function'root_mean_squared_error'.\n",
      "  warnings.warn(\n"
     ]
    }
   ],
   "source": [
    "from sklearn.ensemble import RandomForestRegressor\n",
    "from sklearn.model_selection import train_test_split\n",
    "from sklearn.metrics import mean_squared_error, mean_absolute_error, r2_score\n",
    "\n",
    "df = df_step_0\n",
    "\n",
    "# Separar características y objetivo\n",
    "X = df.drop('Attrition_rate', axis=1)\n",
    "y = df['Attrition_rate']\n",
    "\n",
    "# Dividir en conjunto de entrenamiento y prueba\n",
    "X_train, X_test, y_train, y_test = train_test_split(X, y, test_size=0.2, random_state=42)\n",
    "\n",
    "# Crear el modelo de Random Forest Regressor\n",
    "rf = RandomForestRegressor(\n",
    "    n_estimators = 300, \n",
    "    random_state = 42,    \n",
    "    max_depth = 10,\n",
    "    min_samples_leaf = 4,\n",
    "    min_samples_split = 2)\n",
    "\n",
    "# Entrenar el modelo\n",
    "rf.fit(X_train, y_train)\n",
    "\n",
    "# Hacer predicciones\n",
    "y_pred = rf.predict(X_test)\n",
    "\n",
    "# Evaluar el modelo\n",
    "mse = mean_squared_error(y_test, y_pred)\n",
    "print(\"Mean Squared Error:\", mse)\n",
    "print(\"Predicciones:\", y_pred)\n",
    "\n",
    "# Calcular las métricas de evaluación\n",
    "mse = mean_squared_error(y_test, y_pred)\n",
    "rmse = mean_squared_error(y_test, y_pred, squared=False)\n",
    "mae = mean_absolute_error(y_test, y_pred)\n",
    "r2 = r2_score(y_test, y_pred)\n",
    "\n",
    "# Guardar las métricas en un diccionario\n",
    "metrics = {\n",
    "    'Mean Squared Error (MSE)': mse,\n",
    "    'Root Mean Squared Error (RMSE)': rmse,\n",
    "     'Mean Absolute Error (MAE)': mae,\n",
    "     'R^2': r2\n",
    "}\n",
    "print(metrics)"
   ]
  },
  {
   "cell_type": "markdown",
   "id": "248d9e41-ae1e-4a29-ba4b-e68c315fc76c",
   "metadata": {},
   "source": [
    "El  modelo no es bueno en cuanto a R^2, por lo que es necesario revisar los datos de entrada."
   ]
  }
 ],
 "metadata": {
  "kernelspec": {
   "display_name": "Python 3 (ipykernel)",
   "language": "python",
   "name": "python3"
  },
  "language_info": {
   "codemirror_mode": {
    "name": "ipython",
    "version": 3
   },
   "file_extension": ".py",
   "mimetype": "text/x-python",
   "name": "python",
   "nbconvert_exporter": "python",
   "pygments_lexer": "ipython3",
   "version": "3.12.4"
  }
 },
 "nbformat": 4,
 "nbformat_minor": 5
}
