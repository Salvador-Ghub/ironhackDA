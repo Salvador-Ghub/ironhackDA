{
 "cells": [
  {
   "cell_type": "markdown",
   "id": "4ee081aa-ae78-4247-85fa-50f26163df11",
   "metadata": {},
   "source": [
    "## Instrucciones\n",
    "1. **Importar Librería:**\n",
    "   - Utiliza la librería `random` para que la máquina pueda hacer su elección de manera aleatoria.\n",
    "2. **Solicitar la Entrada del Usuario:**\n",
    "   - Pide al usuario que ingrese su elección de \"piedra\", \"papel\" o \"tijeras\". x\n",
    "   - Asegúrate de que la entrada sea en minúsculas para facilitar la comparación. x\n",
    "3. **Elección de la Máquina:**\n",
    "   - La máquina debe elegir aleatoriamente entre \"piedra\", \"papel\" o \"tijeras\". Usa la función `random.choice()` para esto.\n",
    "4. **Comparar Elecciones:**\n",
    "   - Utiliza estructuras condicionales (`if`, `elif`, `else`) para comparar la elección del usuario con la elección de la máquina.\n",
    "   - Determina quién gana según las reglas del juego:\n",
    "     - Piedra gana a Tijeras\n",
    "     - Tijeras gana a Papel\n",
    "     - Papel gana a Piedra\n",
    "   - Si ambos eligen lo mismo, es un empate.\n",
    "5. **Mostrar el Resultado:**\n",
    "   - Muestra la elección del usuario y de la máquina, así como el resultado del juego (si ganó el usuario, la máquina, o si es un empate)."
   ]
  },
  {
   "cell_type": "code",
   "execution_count": 18,
   "id": "7cd56400-c33e-4afe-85d9-adc837cef4bc",
   "metadata": {},
   "outputs": [
    {
     "name": "stdin",
     "output_type": "stream",
     "text": [
      "Elige uno de los tres : 'piedra', 'papel' o 'tijeras' TIJERAS\n"
     ]
    },
    {
     "name": "stdout",
     "output_type": "stream",
     "text": [
      "Has escogido tijeras.\n",
      "Máquina ha escogido piedra\n",
      "Gana la máquina.\n"
     ]
    }
   ],
   "source": [
    "import random                                                                      #Importamos la librería random para hacer uso de la elección aleatoria dentro de una lista o tupla como máquina en el juego\n",
    "user = str(input(\"Elige uno de los tres : 'piedra', 'papel' o 'tijeras'\")).lower() #Indicamos por pantalla las elecciones por parte del usuario y obligamos a que el string quede en minúsculas\n",
    "print(f\"Has escogido {user}.\")                                                     #Imprimimos un registro de la elección para comprobar el resultado correcto\n",
    "\n",
    "opciones=('piedra','papel','tijeras')                                              #Inicializamos opciones de máquina\n",
    "maquina = random.choice(opciones)                                                  #Asignamos una elección aleatoria de la tupla \"opciones\" para la elección de la máquina\n",
    "print(f\"Máquina ha escogido {maquina}\")                                            #Imprimimos un registro de la elección para comprobar el resultado correcto\n",
    "\n",
    "if user==maquina:                                                                  #Opción de empate\n",
    "    print(\"Empate.\")\n",
    "elif (user=='tijeras' and maquina=='papel') or (user=='papel' and maquina=='piedra') or (user=='piedra' and maquina=='tijeras'):  #Opción de ganado por usuario\n",
    "    print(\"¡Has ganado!\")\n",
    "else:                                                                              #Opción de perder\n",
    "    print(\"Gana la máquina.\")"
   ]
  }
 ],
 "metadata": {
  "kernelspec": {
   "display_name": "Python 3 (ipykernel)",
   "language": "python",
   "name": "python3"
  },
  "language_info": {
   "codemirror_mode": {
    "name": "ipython",
    "version": 3
   },
   "file_extension": ".py",
   "mimetype": "text/x-python",
   "name": "python",
   "nbconvert_exporter": "python",
   "pygments_lexer": "ipython3",
   "version": "3.12.4"
  }
 },
 "nbformat": 4,
 "nbformat_minor": 5
}
