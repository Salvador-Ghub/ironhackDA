{
 "cells": [
  {
   "cell_type": "markdown",
   "metadata": {},
   "source": [
    "# List Comprehensions\n",
    "\n",
    "Completa el siguiente conjunto de ejercicios para solidificar tu conocimiento sobre las comprensiones de lista."
   ]
  },
  {
   "cell_type": "code",
   "execution_count": null,
   "metadata": {},
   "outputs": [],
   "source": [
    "import os"
   ]
  },
  {
   "cell_type": "markdown",
   "metadata": {},
   "source": [
    "#### 1. Usa una list comprehension para crear e imprimir una lista de enteros consecutivos que comience con 1 y termine con 50."
   ]
  },
  {
   "cell_type": "code",
   "execution_count": 4,
   "metadata": {},
   "outputs": [
    {
     "name": "stdout",
     "output_type": "stream",
     "text": [
      "[1, 2, 3, 4, 5, 6, 7, 8, 9, 10, 11, 12, 13, 14, 15, 16, 17, 18, 19, 20, 21, 22, 23, 24, 25, 26, 27, 28, 29, 30, 31, 32, 33, 34, 35, 36, 37, 38, 39, 40, 41, 42, 43, 44, 45, 46, 47, 48, 49, 50]\n"
     ]
    }
   ],
   "source": [
    "# tu solución aquí\n",
    "lista=[i for i in range(1,51)]\n",
    "print(lista)"
   ]
  },
  {
   "cell_type": "markdown",
   "metadata": {},
   "source": [
    "#### 2. Usa una list comprehension para crear y imprimir una lista de numeros pares entre 2 y 200."
   ]
  },
  {
   "cell_type": "code",
   "execution_count": 7,
   "metadata": {},
   "outputs": [
    {
     "name": "stdout",
     "output_type": "stream",
     "text": [
      "[2, 4, 6, 8, 10, 12, 14, 16, 18, 20, 22, 24, 26, 28, 30, 32, 34, 36, 38, 40, 42, 44, 46, 48, 50, 52, 54, 56, 58, 60, 62, 64, 66, 68, 70, 72, 74, 76, 78, 80, 82, 84, 86, 88, 90, 92, 94, 96, 98, 100, 102, 104, 106, 108, 110, 112, 114, 116, 118, 120, 122, 124, 126, 128, 130, 132, 134, 136, 138, 140, 142, 144, 146, 148, 150, 152, 154, 156, 158, 160, 162, 164, 166, 168, 170, 172, 174, 176, 178, 180, 182, 184, 186, 188, 190, 192, 194, 196, 198, 200]\n"
     ]
    }
   ],
   "source": [
    "# tu solución aquí\n",
    "listpares=[i for i in range(2,201) if i%2==0]\n",
    "print(listpares)"
   ]
  },
  {
   "cell_type": "markdown",
   "metadata": {},
   "source": [
    "#### 3. Usa una comprensión de lista para crear e imprimir una lista que contenga todos los elementos del siguiente array de 10 x 4."
   ]
  },
  {
   "cell_type": "code",
   "execution_count": 34,
   "metadata": {},
   "outputs": [],
   "source": [
    "a = [[0.84062117, 0.48006452, 0.7876326 , 0.77109654],\n",
    "       [0.44409793, 0.09014516, 0.81835917, 0.87645456],\n",
    "       [0.7066597 , 0.09610873, 0.41247947, 0.57433389],\n",
    "       [0.29960807, 0.42315023, 0.34452557, 0.4751035 ],\n",
    "       [0.17003563, 0.46843998, 0.92796258, 0.69814654],\n",
    "       [0.41290051, 0.19561071, 0.16284783, 0.97016248],\n",
    "       [0.71725408, 0.87702738, 0.31244595, 0.76615487],\n",
    "       [0.20754036, 0.57871812, 0.07214068, 0.40356048],\n",
    "       [0.12149553, 0.53222417, 0.9976855 , 0.12536346],\n",
    "       [0.80930099, 0.50962849, 0.94555126, 0.33364763]];"
   ]
  },
  {
   "cell_type": "code",
   "execution_count": 35,
   "metadata": {},
   "outputs": [
    {
     "name": "stdout",
     "output_type": "stream",
     "text": [
      "[0.84062117, 0.48006452, 0.7876326, 0.77109654, 0.44409793, 0.09014516, 0.81835917, 0.87645456, 0.7066597, 0.09610873, 0.41247947, 0.57433389, 0.29960807, 0.42315023, 0.34452557, 0.4751035, 0.17003563, 0.46843998, 0.92796258, 0.69814654, 0.41290051, 0.19561071, 0.16284783, 0.97016248, 0.71725408, 0.87702738, 0.31244595, 0.76615487, 0.20754036, 0.57871812, 0.07214068, 0.40356048, 0.12149553, 0.53222417, 0.9976855, 0.12536346, 0.80930099, 0.50962849, 0.94555126, 0.33364763]\n"
     ]
    }
   ],
   "source": [
    "# tu solución aquí\n",
    "listaMatrix=[g for i in a for g in i]\n",
    "print(listaMatrix)"
   ]
  },
  {
   "cell_type": "code",
   "execution_count": 29,
   "metadata": {},
   "outputs": [
    {
     "data": {
      "text/plain": [
       "[1, 2, 3, 4]"
      ]
     },
     "execution_count": 29,
     "metadata": {},
     "output_type": "execute_result"
    }
   ],
   "source": [
    "nested = [[[[1, 2], [3, 4]]]]\n",
    "\n",
    "new_list = []\n",
    "\n",
    "for i in nested:\n",
    "    for k in i:\n",
    "        for j in k:\n",
    "            for h in j:\n",
    "                new_list.append(h)\n",
    "                \n",
    "new_list\n",
    "\n",
    "unnesting = [i4 for i1 in nested for i2 in i1 for i3 in i2 for i4 in i3]\n",
    "\n",
    "unnesting"
   ]
  },
  {
   "cell_type": "markdown",
   "metadata": {},
   "source": [
    "#### 4. Añade una condición a la comprensión de lista anterior para que solo se impriman los valores mayores o iguales a 0.5."
   ]
  },
  {
   "cell_type": "code",
   "execution_count": 36,
   "metadata": {},
   "outputs": [
    {
     "data": {
      "text/plain": [
       "[0.84062117,\n",
       " 0.7876326,\n",
       " 0.77109654,\n",
       " 0.81835917,\n",
       " 0.87645456,\n",
       " 0.7066597,\n",
       " 0.57433389,\n",
       " 0.92796258,\n",
       " 0.69814654,\n",
       " 0.97016248,\n",
       " 0.71725408,\n",
       " 0.87702738,\n",
       " 0.76615487,\n",
       " 0.57871812,\n",
       " 0.53222417,\n",
       " 0.9976855,\n",
       " 0.80930099,\n",
       " 0.50962849,\n",
       " 0.94555126]"
      ]
     },
     "execution_count": 36,
     "metadata": {},
     "output_type": "execute_result"
    }
   ],
   "source": [
    "# tu solución aquí\n",
    "unnesting = [i for i in listaMatrix if i>=0.5]\n",
    "\n",
    "unnesting"
   ]
  },
  {
   "cell_type": "markdown",
   "metadata": {},
   "source": [
    "#### 5. Usa una comprensión de lista para crear e imprimir una lista que contenga todos los elementos del siguiente array de 5 x 2 x 3."
   ]
  },
  {
   "cell_type": "code",
   "execution_count": 38,
   "metadata": {},
   "outputs": [],
   "source": [
    "b = [[[0.55867166, 0.06210792, 0.08147297],\n",
    "        [0.82579068, 0.91512478, 0.06833034]],\n",
    "\n",
    "       [[0.05440634, 0.65857693, 0.30296619],\n",
    "        [0.06769833, 0.96031863, 0.51293743]],\n",
    "\n",
    "       [[0.09143215, 0.71893382, 0.45850679],\n",
    "        [0.58256464, 0.59005654, 0.56266457]],\n",
    "\n",
    "       [[0.71600294, 0.87392666, 0.11434044],\n",
    "        [0.8694668 , 0.65669313, 0.10708681]],\n",
    "\n",
    "       [[0.07529684, 0.46470767, 0.47984544],\n",
    "        [0.65368638, 0.14901286, 0.23760688]]];"
   ]
  },
  {
   "cell_type": "code",
   "execution_count": 43,
   "metadata": {
    "scrolled": true
   },
   "outputs": [
    {
     "data": {
      "text/plain": [
       "[0.55867166,\n",
       " 0.06210792,\n",
       " 0.08147297,\n",
       " 0.82579068,\n",
       " 0.91512478,\n",
       " 0.06833034,\n",
       " 0.05440634,\n",
       " 0.65857693,\n",
       " 0.30296619,\n",
       " 0.06769833,\n",
       " 0.96031863,\n",
       " 0.51293743,\n",
       " 0.09143215,\n",
       " 0.71893382,\n",
       " 0.45850679,\n",
       " 0.58256464,\n",
       " 0.59005654,\n",
       " 0.56266457,\n",
       " 0.71600294,\n",
       " 0.87392666,\n",
       " 0.11434044,\n",
       " 0.8694668,\n",
       " 0.65669313,\n",
       " 0.10708681,\n",
       " 0.07529684,\n",
       " 0.46470767,\n",
       " 0.47984544,\n",
       " 0.65368638,\n",
       " 0.14901286,\n",
       " 0.23760688]"
      ]
     },
     "execution_count": 43,
     "metadata": {},
     "output_type": "execute_result"
    }
   ],
   "source": [
    "# tu solución aquí\n",
    "unnesting = [i3 for i1 in b for i2 in i1 for i3 in i2]\n",
    "unnesting"
   ]
  },
  {
   "cell_type": "markdown",
   "metadata": {},
   "source": [
    "#### 6. Añade una condición a la comprensión de lista anterior para que se imprima el último valor en cada subarray, pero solo si es menor o igual a 0.5."
   ]
  },
  {
   "cell_type": "code",
   "execution_count": 64,
   "metadata": {},
   "outputs": [
    {
     "name": "stdout",
     "output_type": "stream",
     "text": [
      "[0.08147297, 0.06833034, 0.30296619, 0.45850679, 0.11434044, 0.10708681, 0.47984544, 0.23760688]\n"
     ]
    }
   ],
   "source": [
    "# tu solución aquí\n",
    "unnesting=[i2[-1] for i1 in b for i2 in i1 if i2[-1]<=0.5]\n",
    "\n",
    "print(unnesting)"
   ]
  },
  {
   "cell_type": "markdown",
   "metadata": {},
   "source": [
    "### Bonus\n",
    "\n",
    "Intenta resolver estas katas usando comprensiones de listas.\n",
    "\n",
    "**Fácil**\n",
    "- [Insertar valores](https://www.codewars.com/kata/invert-values)\n",
    "- [Suma Cuadrado(n)](https://www.codewars.com/kata/square-n-sum)\n",
    "- [Digitalizar](https://www.codewars.com/kata/digitize)\n",
    "- [Filtrado de listas](https://www.codewars.com/kata/list-filtering)\n",
    "- [Lista aritmética](https://www.codewars.com/kata/541da001259d9ca85d000688)\n",
    "\n",
    "**Medio**\n",
    "- [Múltiplos de 3 o 5](https://www.codewars.com/kata/514b92a657cdc65150000006)\n",
    "- [Conteo de positivos / suma de negativos](https://www.codewars.com/kata/count-of-positives-slash-sum-of-negatives)\n",
    "- [Categorizar nuevo miembro](https://www.codewars.com/kata/5502c9e7b3216ec63c0001aa)\n",
    "\n",
    "**Avanzado**\n",
    "- [Contador de tiempo en cola](https://www.codewars.com/kata/queue-time-counter)"
   ]
  },
  {
   "cell_type": "code",
   "execution_count": 7,
   "metadata": {},
   "outputs": [
    {
     "data": {
      "text/plain": [
       "[-1, -2, 3, -4, -5]"
      ]
     },
     "execution_count": 7,
     "metadata": {},
     "output_type": "execute_result"
    }
   ],
   "source": [
    "#Fácil\n",
    "#Invertir valores\n",
    "\n",
    "list=[1,2,-3,4,5]\n",
    "list_inv=[-i for i in list]\n",
    "list_inv"
   ]
  },
  {
   "cell_type": "code",
   "execution_count": 13,
   "metadata": {},
   "outputs": [
    {
     "name": "stdout",
     "output_type": "stream",
     "text": [
      "10\n"
     ]
    }
   ],
   "source": [
    "#Suma cuadrado (n)\n",
    "list_cuad=[i**2 for i in list]\n",
    "\n",
    "for i in list:\n",
    "    i+=i\n",
    "print(i)"
   ]
  },
  {
   "cell_type": "code",
   "execution_count": 16,
   "metadata": {},
   "outputs": [
    {
     "data": {
      "text/plain": [
       "[8, 4, 6, 8, 1, 5, 1, 6, 1, 8, 5]"
      ]
     },
     "execution_count": 16,
     "metadata": {},
     "output_type": "execute_result"
    }
   ],
   "source": [
    "#Digitalizar\n",
    "num=int(84681516185)\n",
    "string=str(num)\n",
    "list_dig=[int(i) for i in string]\n",
    "\n",
    "list_dig"
   ]
  },
  {
   "cell_type": "code",
   "execution_count": 41,
   "metadata": {},
   "outputs": [
    {
     "data": {
      "text/plain": [
       "[1, 2]"
      ]
     },
     "execution_count": 41,
     "metadata": {},
     "output_type": "execute_result"
    }
   ],
   "source": [
    "#Filtrado de listas\n",
    "filter_list=[1,2,'a','b']\n",
    "#filter_list([1,'a','b',0,15])\n",
    "#filter_list([1,2,'aasf','1','123',123])\n",
    "filtered=[i for i in filter_list if type(i)==int]\n",
    "filtered\n"
   ]
  },
  {
   "cell_type": "code",
   "execution_count": 61,
   "metadata": {},
   "outputs": [
    {
     "data": {
      "text/plain": [
       "[2, 15, 28, 41, 54, 67, 80, 93]"
      ]
     },
     "execution_count": 61,
     "metadata": {},
     "output_type": "execute_result"
    }
   ],
   "source": [
    "#Lista aritmética\n",
    "\n",
    "first=2\n",
    "c=13\n",
    "l=7\n",
    "list=[first]\n",
    "for i in range(l):\n",
    "    list.append(list[i]+c)\n",
    "    \n",
    "list\n",
    "\n",
    "#list=[list.append(list[i]+c) for i in range(l)]\n",
    "#list"
   ]
  },
  {
   "cell_type": "code",
   "execution_count": 20,
   "metadata": {},
   "outputs": [
    {
     "name": "stdin",
     "output_type": "stream",
     "text": [
      "Indica la cantidad de múltiplos que quieres introducir en la lista 5\n"
     ]
    },
    {
     "name": "stdout",
     "output_type": "stream",
     "text": [
      "[-20, -18, -15, -12, -10]\n",
      "0\n"
     ]
    }
   ],
   "source": [
    "#Nivel medio\n",
    "#Múltiplos de 3 o de 5\n",
    "qty_mul=int(input(\"Indica la cantidad de múltiplos que quieres introducir en la lista\"))\n",
    "list=[]\n",
    "init=-20\n",
    "while qty_mul>len(list):\n",
    "    if init%3==0 or init%5==0:\n",
    "        list.append(init)\n",
    "    init+=1\n",
    "list\n",
    "for i in list:\n",
    "    i+=i\n",
    "if i<0:\n",
    "    i=0\n",
    "print(list)\n",
    "print(i)"
   ]
  },
  {
   "cell_type": "code",
   "execution_count": 40,
   "metadata": {},
   "outputs": [
    {
     "name": "stdout",
     "output_type": "stream",
     "text": [
      "[10, -65]\n",
      "[1, 2, 3, 4, 5, 6, 7, 8, 9, 10, -11, -12, -13, -14, -15]\n"
     ]
    }
   ],
   "source": [
    "#Conteo de positivos y suma de negativos\n",
    "\n",
    "list=[1, 2, 3, 4, 5, 6, 7, 8, 9, 10, -11, -12, -13, -14, -15]\n",
    "suma_neg=[0]\n",
    "cont_pos=[0]\n",
    "\n",
    "list_pos=[i for i in list if i>=0]\n",
    "list_neg=[i for i in list if i<0]\n",
    "\n",
    "cont_pos[0]=len(list_pos)\n",
    "for i in list_neg:\n",
    "    suma_neg[0]+=i\n",
    "\n",
    "\n",
    "cont_pos.extend(suma_neg)\n",
    "print(cont_pos)\n",
    "\n",
    "print(list)"
   ]
  },
  {
   "cell_type": "code",
   "execution_count": 48,
   "metadata": {},
   "outputs": [
    {
     "name": "stdout",
     "output_type": "stream",
     "text": [
      "['Open', 'Open', 'Senior', 'Open', 'Open', 'Senior']\n"
     ]
    }
   ],
   "source": [
    "input =  [[18, 20], [45, 2], [61, 12], [37, 6], [21, 21], [78, 9]]\n",
    "output=[]\n",
    "for i in input:\n",
    "    if int(i[0])>=55 and -2<=int(i[1])<=26:\n",
    "        output.append('Senior')\n",
    "    else:\n",
    "        output.append('Open')\n",
    "\n",
    "print(output)\n",
    "        "
   ]
  },
  {
   "cell_type": "code",
   "execution_count": 77,
   "metadata": {},
   "outputs": [
    {
     "name": "stdout",
     "output_type": "stream",
     "text": [
      "cola [2, 5, 3, 4, 6]\n",
      "tiempo  1\n",
      "cola [1, 5, 3, 4, 6]\n",
      "tiempo  2\n",
      "cola [4, 3, 4, 6, 1]\n",
      "tiempo  3\n",
      "cola [2, 4, 6, 1, 4]\n",
      "tiempo  4\n",
      "cola [3, 6, 1, 4, 2]\n",
      "tiempo  5\n",
      "cola [5, 1, 4, 2, 3]\n",
      "tiempo  6\n",
      "cola [0, 4, 2, 3, 5]\n",
      "tiempo  7\n",
      "cola [3, 2, 3, 5]\n",
      "tiempo  8\n",
      "cola [1, 3, 5, 3]\n",
      "tiempo  9\n",
      "cola [2, 5, 3, 1]\n",
      "tiempo  10\n",
      "cola [4, 3, 1, 2]\n",
      "tiempo  11\n",
      "cola [2, 1, 2, 4]\n",
      "tiempo  12\n",
      "cola [0, 2, 4, 2]\n"
     ]
    }
   ],
   "source": [
    "#Avanzado\n",
    "#Contador de tiempo en cola\n",
    "cola=[2, 5, 3, 4, 6]\n",
    "print(\"cola\",cola)\n",
    "pos_amigo=2\n",
    "amigo_in=True\n",
    "tiempo=0\n",
    "\n",
    "while len(cola)>0 and amigo_in:\n",
    "    #print(\"cola\",cola)\n",
    "    cola[0]-=1\n",
    "    tiempo+=1\n",
    "    print(\"tiempo \",tiempo)\n",
    "    print(\"cola\",cola)\n",
    "    if cola[pos_amigo]==0:                        #Condición de salida del bucle cuando amigo tiene todos los tickets\n",
    "        amigo_in=False\n",
    "        break\n",
    "    else:\n",
    "        if pos_amigo==0:                          #movimiento de posición por amigo en cola\n",
    "            pos_amigo=len(cola)-1\n",
    "        else:\n",
    "            pos_amigo-=1\n",
    "        \n",
    "    if cola[0]>0 :                                #si la persona que recibe ticket no tiene todas, se pone al final de la cola\n",
    "        cola.append(cola[0])\n",
    "    cola.pop(0)                                   #quitamos a la persona que ha tomado ticket\n",
    "    #print(\"pos_amigo \", pos_amigo)\n",
    "    \n"
   ]
  }
 ],
 "metadata": {
  "kernelspec": {
   "display_name": "Python 3 (ipykernel)",
   "language": "python",
   "name": "python3"
  },
  "language_info": {
   "codemirror_mode": {
    "name": "ipython",
    "version": 3
   },
   "file_extension": ".py",
   "mimetype": "text/x-python",
   "name": "python",
   "nbconvert_exporter": "python",
   "pygments_lexer": "ipython3",
   "version": "3.12.4"
  },
  "vscode": {
   "interpreter": {
    "hash": "aee8b7b246df8f9039afb4144a1f6fd8d2ca17a180786b69acc140d282b71a49"
   }
  }
 },
 "nbformat": 4,
 "nbformat_minor": 4
}
