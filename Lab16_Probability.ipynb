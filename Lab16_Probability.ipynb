{
 "cells": [
  {
   "cell_type": "markdown",
   "metadata": {},
   "source": [
    "# Probability"
   ]
  },
  {
   "cell_type": "markdown",
   "metadata": {},
   "source": [
    "## Reto 1\n",
    "Hay una caja con 10 bolas blancas, 12 bolas rojas y 8 bolas negras. Calcula la probabilidad de:\n",
    "* Sacar una bola blanca.\n",
    "* Sacar una bola blanca en la primera extracción y una bola negra en la segunda extracción sin reemplazar la primera.\n",
    "* Sacar una bola blanca en la primera extracción y una bola negra en la segunda extracción reemplazando la primera.\n",
    "* Sacar 3 bolas y que sean todas de diferentes colores."
   ]
  },
  {
   "cell_type": "code",
   "execution_count": 5,
   "metadata": {},
   "outputs": [
    {
     "name": "stdout",
     "output_type": "stream",
     "text": [
      "Una bola blanca primera extracción 0.3333333333333333\n",
      "Una bola negra segunda extracción 0.27586206896551724\n",
      "Una bola negra segunda extracción reemplazando la primera 0.26666666666666666\n",
      "Casos 27\n",
      "0.23645320197044334\n",
      "4060\n",
      "960\n"
     ]
    }
   ],
   "source": [
    "# YOUR CODE HERE\n",
    "bolasBlancas = 10\n",
    "bolasRojas = 12\n",
    "bolasNegras = 8\n",
    "\n",
    "p = bolasBlancas / (bolasBlancas + bolasRojas + bolasNegras)\n",
    "print('Una bola blanca primera extracción', p)\n",
    "\n",
    "p = bolasNegras / (bolasBlancas-1 + bolasRojas + bolasNegras)\n",
    "print('Una bola negra segunda extracción', p)\n",
    "\n",
    "p = bolasNegras / (bolasBlancas + bolasRojas + bolasNegras)\n",
    "print('Una bola negra segunda extracción reemplazando la primera', p)\n",
    "\n",
    "# Tenemos 3 posibilidades elevado a 3 combinaciones distintas 3^3\n",
    "\n",
    "casos = 3**3\n",
    "print('Casos',casos)\n",
    "\n",
    "# bnr\n",
    "# nrb\n",
    "# rbn\n",
    "# rnb\n",
    "# nbr\n",
    "# brn\n",
    "# nbr\n",
    "# brn\n",
    "# rnb\n",
    "\n",
    "from math import comb\n",
    "\n",
    "# Cantidad de bolas de cada color\n",
    "bolas_blancas = 10\n",
    "bolas_rojas = 12\n",
    "bolas_negras = 8\n",
    "\n",
    "# Total de bolas\n",
    "total_bolas = bolas_blancas + bolas_rojas + bolas_negras\n",
    "\n",
    "# Total de formas de sacar 3 bolas de un total de 30 (sin importar el color)\n",
    "total_formas = comb(total_bolas, 3)\n",
    "\n",
    "# Formas de sacar una bola de cada color\n",
    "formas_deseadas = comb(bolas_blancas, 1) * comb(bolas_rojas, 1) * comb(bolas_negras, 1)\n",
    "\n",
    "# Probabilidad de sacar una bola de cada color\n",
    "probabilidad = formas_deseadas / total_formas\n",
    "print(probabilidad)\n",
    "print(total_formas)\n",
    "print(formas_deseadas)\n",
    "\n"
   ]
  },
  {
   "cell_type": "markdown",
   "metadata": {},
   "source": [
    "## Reto 2\n",
    "\n",
    "Quieres ir de picnic el sábado. Odias la lluvia y quieres planificar tu fin de semana. Para ayudarte a tomar una decisión, recopilas los siguientes datos sobre los días lluviosos:\n",
    "\n",
    "* El 40% de todos los días están nublados.\n",
    "* Aproximadamente el 50% de los días nublados son lluviosos.\n",
    "* Aproximadamente el 20% de los días no nublados son lluviosos.\n",
    "\n",
    "¿Cuál es la probabilidad de que llueva el próximo sábado?"
   ]
  },
  {
   "cell_type": "code",
   "execution_count": 11,
   "metadata": {},
   "outputs": [
    {
     "data": {
      "text/plain": [
       "0.32"
      ]
     },
     "execution_count": 11,
     "metadata": {},
     "output_type": "execute_result"
    }
   ],
   "source": [
    "# YOUR CODE HERE\n",
    "# Datos proporcionados\n",
    "P_nublado = 0.40\n",
    "P_lluvia_dado_nublado = 0.50\n",
    "P_no_nublado = 1 - P_nublado  # P(No nublado)\n",
    "P_lluvia_dado_no_nublado = 0.20\n",
    "\n",
    "# Calcular la probabilidad total de lluvia\n",
    "P_lluvia = (P_lluvia_dado_nublado * P_nublado) + (P_lluvia_dado_no_nublado * P_no_nublado)\n",
    "P_lluvia"
   ]
  },
  {
   "cell_type": "markdown",
   "metadata": {},
   "source": [
    "## Reto 3\n",
    "\n",
    "A y B son eventos de una probabilidad tal que \\(P(A) = 0.3\\), \\(P(B) = 0.6\\) y \\(P(A \\cap B) = 0.1\\)\n",
    "\n",
    "¿Cuáles de las siguientes afirmaciones son verdaderas?\n",
    "**SUGERENCIA: dibuja un gran diagrama de Venn a tu lado**\n",
    "* \\(P(\\overline{A}) = 0.7\\)\n",
    "* \\(P(A \\cup B) = 0.6\\)\n",
    "* \\(P(A \\cap \\overline{B}) = 0.2\\)\n",
    "* \\(P(A \\cup \\overline{A}) = 1\\)  \n",
    "* \\(P(A \\cap (B \\cup \\overline{B})) = 0.4\\)\n",
    "* \\(P(\\overline{A} \\cap \\overline{B}) = 0.3\\)\n",
    "* \\(P(\\overline{A \\cap B}) = 0.9\\)"
   ]
  },
  {
   "cell_type": "code",
   "execution_count": 8,
   "metadata": {},
   "outputs": [
    {
     "name": "stdout",
     "output_type": "stream",
     "text": [
      "0.7\n"
     ]
    }
   ],
   "source": [
    "# YOUR CODE HERE\n",
    "# 1 (P(\\overline{A}) = 0.7) - Verdadero\n",
    "pA = 0.3\n",
    "plA = 1 - pA\n",
    "print(plA)\n"
   ]
  },
  {
   "cell_type": "code",
   "execution_count": 9,
   "metadata": {
    "scrolled": true
   },
   "outputs": [
    {
     "name": "stdout",
     "output_type": "stream",
     "text": [
      "0.7999999999999999\n"
     ]
    }
   ],
   "source": [
    "# 2(P(A \\cup B) = 0.6) - Falso (Regla de complemento)\n",
    "pA = 0.3\n",
    "pB = 0.6\n",
    "pAnB = 0.1\n",
    "pAuB = pA + pB - pAnB\n",
    "print(pAuB)"
   ]
  },
  {
   "cell_type": "code",
   "execution_count": 11,
   "metadata": {
    "scrolled": true
   },
   "outputs": [
    {
     "name": "stdout",
     "output_type": "stream",
     "text": [
      "0.19999999999999998\n"
     ]
    }
   ],
   "source": [
    "# 3 (P(A \\cap \\overline{B}) = 0.2) Verdadero (Regla de intersección con el complemento)\n",
    "pAulB = pA - pAnB\n",
    "print(pAulB)"
   ]
  },
  {
   "cell_type": "code",
   "execution_count": 13,
   "metadata": {
    "scrolled": true
   },
   "outputs": [
    {
     "name": "stdout",
     "output_type": "stream",
     "text": [
      "1.0\n"
     ]
    }
   ],
   "source": [
    "# 4 (P(A \\cup \\overline{A}) = 1) Verdadero (unión de un evento y su complemento)\n",
    "pA = 0.3\n",
    "plA = 1 - pA\n",
    "pAulA = pA + plA\n",
    "print(pAulA)"
   ]
  },
  {
   "cell_type": "code",
   "execution_count": 15,
   "metadata": {
    "scrolled": true
   },
   "outputs": [
    {
     "name": "stdout",
     "output_type": "stream",
     "text": [
      "0.3\n"
     ]
    }
   ],
   "source": [
    "# 5 (P(A \\cap (B \\cup \\overline{B})) = 0.4) Falso\n",
    "pAnBulB = pA\n",
    "print(pAnBulB)"
   ]
  },
  {
   "cell_type": "code",
   "execution_count": 16,
   "metadata": {},
   "outputs": [
    {
     "name": "stdout",
     "output_type": "stream",
     "text": [
      "0.20000000000000007\n"
     ]
    }
   ],
   "source": [
    "# 6 (P(\\overline{A} \\cap \\overline{B}) = 0.3) Falso (regla de probabilidad para los complementos)\n",
    "plAnlB = 1 - pAuB\n",
    "print(plAnlB)"
   ]
  },
  {
   "cell_type": "code",
   "execution_count": 18,
   "metadata": {},
   "outputs": [
    {
     "name": "stdout",
     "output_type": "stream",
     "text": [
      "0.9\n"
     ]
    }
   ],
   "source": [
    "# 7 (P(\\overline{A \\cap B}) = 0.9) Verdadero (complemento de la intersección)\n",
    "plAnBl = 1 - pAnB\n",
    "print(plAnBl)"
   ]
  },
  {
   "cell_type": "markdown",
   "metadata": {
    "jp-MarkdownHeadingCollapsed": true
   },
   "source": [
    "## Reto 4\n",
    "\n",
    "* Si alguien viaja a China, la probabilidad de contraer Covid es del 1%\n",
    "* Si alguien viaja a Italia, la probabilidad de contraer Covid es del 20%\n",
    "\n",
    "Lanzo un dado con números 1, 2, 3, 4, 5, 6:\n",
    "* Si sale 1: Vuelo a Italia\n",
    "* Si no sale 1: Vuelo a China\n",
    "\n",
    "Durante mi viaje, contraje Covid. ¿Cuál es la probabilidad de que haya volado a China?"
   ]
  },
  {
   "cell_type": "code",
   "execution_count": 22,
   "metadata": {},
   "outputs": [
    {
     "name": "stdout",
     "output_type": "stream",
     "text": [
      "La probabilidad de que el viaje haya sido a China dado que se contrajo Covid es: 20.00%\n"
     ]
    }
   ],
   "source": [
    "# YOUR CODE HERE usaremos el Teorema de Bayes\n",
    "# Probabilidades iniciales\n",
    "P_B1 = 1 / 6   # Probabilidad de viajar a Italia\n",
    "P_B2 = 5 / 6   # Probabilidad de viajar a China\n",
    "P_A_given_B1 = 0.20  # Probabilidad de contraer Covid si se viaja a Italia\n",
    "P_A_given_B2 = 0.01  # Probabilidad de contraer Covid si se viaja a China\n",
    "\n",
    "# Paso 1: Calculamos P(A), la probabilidad total de contraer Covid\n",
    "P_A = (P_A_given_B1 * P_B1) + (P_A_given_B2 * P_B2)\n",
    "\n",
    "# Paso 2: Aplicamos el Teorema de Bayes para calcular P(B2 | A), es decir,\n",
    "# la probabilidad de haber viajado a China dado que se contrajo Covid.\n",
    "P_B2_given_A = (P_A_given_B2 * P_B2) / P_A\n",
    "\n",
    "# Imprimimos el resultado\n",
    "print(f\"La probabilidad de que el viaje haya sido a China dado que se contrajo Covid es: {P_B2_given_A:.2%}\")\n"
   ]
  },
  {
   "cell_type": "markdown",
   "metadata": {},
   "source": [
    "## BONUS\n",
    "\n",
    "Lanzas 2 dados. ¿Cuál es la probabilidad de que la suma de los números sea 7? ¿Y 8? ¿Y 9? Luego simula 10000 veces y dibuja un gráfico de conteo.\n",
    "\n",
    "tu explicación aquí"
   ]
  },
  {
   "cell_type": "code",
   "execution_count": 33,
   "metadata": {},
   "outputs": [
    {
     "data": {
      "image/png": "[encoded data removed]",
      "text/plain": [
       "<Figure size 1000x600 with 1 Axes>"
      ]
     },
     "metadata": {},
     "output_type": "display_data"
    }
   ],
   "source": [
    "# YOUR CODE HERE\n",
    "import numpy as np\n",
    "import matplotlib.pyplot as plt\n",
    "\n",
    "# Configuramos la simulación\n",
    "num_lanzamientos = 10000\n",
    "suma_resultados = []\n",
    "\n",
    "# Simulamos el lanzamiento de dos dados\n",
    "for _ in range(num_lanzamientos):\n",
    "    dado1 = np.random.randint(1, 7)  # Número aleatorio entre 1 y 6\n",
    "    dado2 = np.random.randint(1, 7)  # Número aleatorio entre 1 y 6\n",
    "    suma_resultados.append(dado1 + dado2)  # Guardamos la suma de ambos dados\n",
    "\n",
    "# Contamos las ocurrencias de cada posible suma\n",
    "conteo_sumas = np.bincount(suma_resultados, minlength=13)\n",
    "\n",
    "# Creamos el gráfico de conteo\n",
    "plt.figure(figsize=(10, 6))\n",
    "plt.bar(range(2, 13), conteo_sumas[2:13], color='skyblue', edgecolor='black')\n",
    "plt.xlabel('Suma de los dados')\n",
    "plt.ylabel('Frecuencia')\n",
    "plt.title('Conteo de las sumas obtenidas en 10,000 lanzamientos de dos dados')\n",
    "plt.xticks(range(2, 13))\n",
    "plt.show()"
   ]
  }
 ],
 "metadata": {
  "kernelspec": {
   "display_name": "Python 3 (ipykernel)",
   "language": "python",
   "name": "python3"
  },
  "language_info": {
   "codemirror_mode": {
    "name": "ipython",
    "version": 3
   },
   "file_extension": ".py",
   "mimetype": "text/x-python",
   "name": "python",
   "nbconvert_exporter": "python",
   "pygments_lexer": "ipython3",
   "version": "3.12.4"
  },
  "toc": {
   "base_numbering": 1,
   "nav_menu": {},
   "number_sections": false,
   "sideBar": true,
   "skip_h1_title": false,
   "title_cell": "Table of Contents",
   "title_sidebar": "Contents",
   "toc_cell": false,
   "toc_position": {
    "height": "calc(100% - 180px)",
    "left": "10px",
    "top": "150px",
    "width": "296.475px"
   },
   "toc_section_display": true,
   "toc_window_display": false
  },
  "varInspector": {
   "cols": {
    "lenName": 16,
    "lenType": 16,
    "lenVar": 40
   },
   "kernels_config": {
    "python": {
     "delete_cmd_postfix": "",
     "delete_cmd_prefix": "del ",
     "library": "var_list.py",
     "varRefreshCmd": "print(var_dic_list())"
    },
    "r": {
     "delete_cmd_postfix": ") ",
     "delete_cmd_prefix": "rm(",
     "library": "var_list.r",
     "varRefreshCmd": "cat(var_dic_list()) "
    }
   },
   "types_to_exclude": [
    "module",
    "function",
    "builtin_function_or_method",
    "instance",
    "_Feature"
   ],
   "window_display": false
  }
 },
 "nbformat": 4,
 "nbformat_minor": 4
}
