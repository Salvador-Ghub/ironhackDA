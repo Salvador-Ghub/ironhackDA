{
 "cells": [
  {
   "cell_type": "markdown",
   "metadata": {},
   "source": [
    "# Functions"
   ]
  },
  {
   "cell_type": "markdown",
   "metadata": {},
   "source": [
    "En este laboratorio pondremos en práctica algunos de los conceptos que hemos aprendido en los últimos días.\n",
    "\n",
    "`NOTA: En este laboratorio deberías intentar escribir todas las funciones por ti mismo utilizando solo la sintaxis más básica de Python y sin funciones como len, count, sum, max, min, in, etc. Dale una oportunidad. 🧑🏻‍💻👩🏻‍💻`\n",
    "\n",
    "La celda después de cada ejercicio contiene algunas pruebas para verificar si tu función funciona como se espera."
   ]
  },
  {
   "cell_type": "code",
   "execution_count": 5,
   "metadata": {},
   "outputs": [
    {
     "ename": "ModuleNotFoundError",
     "evalue": "No module named 'mod'",
     "output_type": "error",
     "traceback": [
      "\u001b[1;31m---------------------------------------------------------------------------\u001b[0m",
      "\u001b[1;31mModuleNotFoundError\u001b[0m                       Traceback (most recent call last)",
      "Cell \u001b[1;32mIn[5], line 1\u001b[0m\n\u001b[1;32m----> 1\u001b[0m \u001b[38;5;28;01mfrom\u001b[39;00m \u001b[38;5;21;01mmod\u001b[39;00m\u001b[38;5;21;01m.\u001b[39;00m\u001b[38;5;21;01mtesting\u001b[39;00m \u001b[38;5;28;01mimport\u001b[39;00m \u001b[38;5;241m*\u001b[39m\n\u001b[0;32m      2\u001b[0m \u001b[38;5;28;01mimport\u001b[39;00m \u001b[38;5;21;01munittest\u001b[39;00m\n",
      "\u001b[1;31mModuleNotFoundError\u001b[0m: No module named 'mod'"
     ]
    }
   ],
   "source": [
    "from mod.testing import *\n",
    "import unittest"
   ]
  },
  {
   "cell_type": "markdown",
   "metadata": {},
   "source": [
    "## 1. Escribe una función que devuelva el mayor de dos números"
   ]
  },
  {
   "cell_type": "code",
   "execution_count": 22,
   "metadata": {},
   "outputs": [
    {
     "data": {
      "text/plain": [
       "2"
      ]
     },
     "execution_count": 22,
     "metadata": {},
     "output_type": "execute_result"
    }
   ],
   "source": [
    "def greater(a,b):\n",
    "#your code here#tu codigo aquí\n",
    "    if a>b:\n",
    "        return a\n",
    "    elif b>a:\n",
    "        return b\n",
    "    else:\n",
    "        return print(\"Ambos valores son iguales.\")\n",
    "\n",
    "greater(1,2)"
   ]
  },
  {
   "cell_type": "code",
   "execution_count": null,
   "metadata": {},
   "outputs": [],
   "source": [
    "# Para testear tu función\n",
    "test_greater(greater)"
   ]
  },
  {
   "cell_type": "markdown",
   "metadata": {},
   "source": [
    "## 2. Ahora escribe una función que devuelva el elemento más grande de la lista"
   ]
  },
  {
   "cell_type": "code",
   "execution_count": 54,
   "metadata": {},
   "outputs": [
    {
     "name": "stdout",
     "output_type": "stream",
     "text": [
      "[2, 4, 5, 6, 100]\n",
      "100\n"
     ]
    }
   ],
   "source": [
    "#tu codigo aquí\n",
    "def greatest(args):\n",
    "    \n",
    "    lista_ordenada=sorted(args)\n",
    "    print(lista_ordenada)\n",
    "    return lista_ordenada[-1]\n",
    "\n",
    "\n",
    "list=[6,2,100,4,5]\n",
    "print(greatest(list))"
   ]
  },
  {
   "cell_type": "code",
   "execution_count": null,
   "metadata": {},
   "outputs": [],
   "source": [
    "# Para testear tu función\n",
    "test_greatest(greatest)"
   ]
  },
  {
   "cell_type": "markdown",
   "metadata": {},
   "source": [
    "## 3. Escribe una función que sume todos los elementos de una lista"
   ]
  },
  {
   "cell_type": "code",
   "execution_count": 38,
   "metadata": {},
   "outputs": [
    {
     "name": "stdout",
     "output_type": "stream",
     "text": [
      "27\n"
     ]
    }
   ],
   "source": [
    "def sum_all(lst):\n",
    "#tu codigo aquí\n",
    "    suma=0\n",
    "    for i in lst:\n",
    "        suma+=i\n",
    "    return suma\n",
    "\n",
    "list=[23,4]\n",
    "print(sum_all(list))\n"
   ]
  },
  {
   "cell_type": "code",
   "execution_count": null,
   "metadata": {
    "scrolled": true
   },
   "outputs": [],
   "source": [
    "# Para testear tu función\n",
    "test_sum(sum_all)"
   ]
  },
  {
   "cell_type": "markdown",
   "metadata": {},
   "source": [
    "## 4. Escribe otra función que multiplique todos los elementos de una lista"
   ]
  },
  {
   "cell_type": "code",
   "execution_count": 37,
   "metadata": {},
   "outputs": [
    {
     "name": "stdout",
     "output_type": "stream",
     "text": [
      "20\n"
     ]
    }
   ],
   "source": [
    "def mult_all(lst):\n",
    "#tu codigo aquí\n",
    "    mult=1\n",
    "    for i in lst:\n",
    "        mult*=i\n",
    "    return mult\n",
    "\n",
    "list=[5,4]\n",
    "print(mult_all(list))"
   ]
  },
  {
   "cell_type": "code",
   "execution_count": null,
   "metadata": {
    "scrolled": true
   },
   "outputs": [],
   "source": [
    "# Para testear tu función\n",
    "test_mult(mult_all)"
   ]
  },
  {
   "cell_type": "markdown",
   "metadata": {},
   "source": [
    "## 5. Ahora combina esas dos ideas y escribe una función que reciba una lista y ya sea \"+\" o \"*\", y produzca el resultado acorde"
   ]
  },
  {
   "cell_type": "code",
   "execution_count": null,
   "metadata": {},
   "outputs": [],
   "source": [
    "def oper_all(arr, oper = \"*\"):\n",
    "#tu codigo aquí\n",
    "    if oper==\"*\":\n",
    "        return mult_all(arr)\n",
    "    else:\n",
    "        return sum_all(arr)\n",
    "\n",
    "oper_all(list,\"+\")"
   ]
  },
  {
   "cell_type": "code",
   "execution_count": null,
   "metadata": {},
   "outputs": [],
   "source": [
    "# Para testear tu función\n",
    "test_operations(oper_all)"
   ]
  },
  {
   "cell_type": "markdown",
   "metadata": {},
   "source": [
    "## 6. Escribe una función que devuelva el factorial de un número."
   ]
  },
  {
   "cell_type": "code",
   "execution_count": 39,
   "metadata": {},
   "outputs": [
    {
     "name": "stdout",
     "output_type": "stream",
     "text": [
      "720\n"
     ]
    }
   ],
   "source": [
    "def factorial(n):\n",
    "#tu codigo aquí\n",
    "    fact=1\n",
    "    for i in range(1,n+1):\n",
    "        fact*=i\n",
    "    return fact\n",
    "\n",
    "print(factorial(6))"
   ]
  },
  {
   "cell_type": "code",
   "execution_count": 1,
   "metadata": {},
   "outputs": [],
   "source": [
    "# Fórmula factorial\n",
    "# n! = n * (n - 1) *...*1\n",
    "\n",
    "# Este código define una función llamada \"factorial\" que toma una entrada \"n\". La función utiliza un bucle for para iterar a través del rango de números\n",
    "# desde 1 hasta n+1. Para cada número en ese rango, multiplica el valor actual de x por el número en el rango. Al final del bucle,\n",
    "# la función devuelve el valor final de x, que será el factorial del número de entrada \"n\".\n",
    "\n",
    "# El factorial de un entero positivo n es el producto de todos los enteros positivos menores o iguales a n.\n",
    "# Por ejemplo, el factorial de 6 (escrito \"6!\") es 6 * 5 * 4 * 3 * 2 * 1 = 720.\n",
    "\n",
    "# Así que esta función toma una entrada de cualquier entero positivo y devuelve el factorial de ese número."
   ]
  },
  {
   "cell_type": "code",
   "execution_count": null,
   "metadata": {},
   "outputs": [],
   "source": [
    "# This will test your function \n",
    "test_factorial(factorial)"
   ]
  },
  {
   "cell_type": "markdown",
   "metadata": {},
   "source": [
    "## 7. Escribe una función que tome una lista y devuelva una lista de los valores únicos.\n",
    "\n",
    "`NOTE: No podemos usar set. 🤔`"
   ]
  },
  {
   "cell_type": "code",
   "execution_count": 52,
   "metadata": {},
   "outputs": [
    {
     "name": "stdout",
     "output_type": "stream",
     "text": [
      "[1, 1002, 5, 6, 2, 276, 3, 4]\n"
     ]
    }
   ],
   "source": [
    "def unique(lst_un):\n",
    "#tu codigo aquí\n",
    "    trigger=False\n",
    "    lst_unic=[]\n",
    "    for numero in lst_un:\n",
    "        for unicos in lst_unic:\n",
    "            if numero==unicos:\n",
    "                trigger=True\n",
    "        if trigger:\n",
    "            trigger=False\n",
    "        else:      \n",
    "            lst_unic.append(numero)\n",
    "            \n",
    "    return lst_unic\n",
    "\n",
    "a=unique([1,1002,5,6,2,276,3,2,3,4])\n",
    "print(a)"
   ]
  },
  {
   "cell_type": "code",
   "execution_count": null,
   "metadata": {},
   "outputs": [],
   "source": [
    "# Para testear tu función \n",
    "test_unique(unique)"
   ]
  },
  {
   "cell_type": "markdown",
   "metadata": {},
   "source": [
    "## 8. Escribe una función que devuelva la moda de una lista, es decir: el elemento que aparece más veces.\n",
    "\n",
    "`NOTE: No se debe usar count... 🧐`"
   ]
  },
  {
   "cell_type": "code",
   "execution_count": 93,
   "metadata": {},
   "outputs": [
    {
     "name": "stdout",
     "output_type": "stream",
     "text": [
      "[1, 1, 2, 2, 3, 4, 67, 67, 67, 67, 67, 67]\n",
      "67\n"
     ]
    }
   ],
   "source": [
    "def mode_counter(arr):\n",
    "#tu codigo aquí\n",
    "    list_sorted=sorted(list)\n",
    "    print(list_sorted)\n",
    "    trigger=True\n",
    "    init=list_sorted[0]\n",
    "    moda=list_sorted[0]\n",
    "    racha=0\n",
    "    max_racha=0\n",
    "    for i in list_sorted:\n",
    "        if trigger:\n",
    "            trigger=False\n",
    "        else:\n",
    "            if init==i:\n",
    "                racha+=1\n",
    "                if racha>max_racha:\n",
    "                    max_racha=racha\n",
    "                    moda=i\n",
    "            else:\n",
    "                racha=0\n",
    "            init=i\n",
    "    return moda\n",
    "        \n",
    "\n",
    "list=[1,67,67,67,3,4,1,67,67,2,2,67]\n",
    "print(mode_counter(list))"
   ]
  },
  {
   "cell_type": "code",
   "execution_count": null,
   "metadata": {},
   "outputs": [],
   "source": [
    "# Para testear tu función \n",
    "test_mode(mode_counter)"
   ]
  },
  {
   "attachments": {
    "408d9992-bf59-464d-bd7e-de6cea415282.png": {
     "image/png": "[encoded data removed]"
    }
   },
   "cell_type": "markdown",
   "metadata": {},
   "source": [
    "## 9. Escribe una función que calcule la desviación estándar de una lista.\n",
    "`NOTE: no utilices librerías ni ninguna función ya construida. 😉`\n",
    "![image.png](attachment:408d9992-bf59-464d-bd7e-de6cea415282.png)"
   ]
  },
  {
   "cell_type": "code",
   "execution_count": 47,
   "metadata": {},
   "outputs": [
    {
     "data": {
      "text/plain": [
       "1.8708286933869707"
      ]
     },
     "execution_count": 47,
     "metadata": {},
     "output_type": "execute_result"
    }
   ],
   "source": [
    "def st_dev(list_sd):\n",
    "#tu codigo aquí\n",
    "\n",
    "    def longitud_lista (list_sd):\n",
    "        output=0\n",
    "        for contenido in list_sd:\n",
    "            output+=1\n",
    "        return output\n",
    "\n",
    "    def suma_lista (list_sd):\n",
    "        output=0\n",
    "        for contenido in list_sd:\n",
    "            output+=contenido\n",
    "        return output\n",
    "\n",
    "    def media_lista (list_sd):\n",
    "        output=suma_lista(list_sd)/longitud_lista(list_sd)\n",
    "        return output\n",
    "\n",
    "    def cuadrado_a_la_media (list_sd):\n",
    "        output=[(contenido-media_lista(list_sd))**2 for contenido in list_sd]\n",
    "        return output\n",
    "\n",
    "    def raiz_cuadrada(numero:float):\n",
    "        output=numero**0.5\n",
    "        return output\n",
    "\n",
    "    numerador=suma_lista(cuadrado_a_la_media(list_sd))\n",
    "    denominador=longitud_lista(list_sd)\n",
    "    DE=raiz_cuadrada(numerador/denominador)\n",
    "    \n",
    "    \n",
    "    return DE\n",
    "    \n",
    "lista_test=[6,2,3,1]\n",
    "\n",
    "st_dev(lista_test)\n",
    "        "
   ]
  },
  {
   "cell_type": "code",
   "execution_count": null,
   "metadata": {},
   "outputs": [],
   "source": [
    "# Para testear tu función\n",
    "test_stdev(st_dev)"
   ]
  },
  {
   "cell_type": "markdown",
   "metadata": {},
   "source": [
    "## 10. Escribe una función para verificar si una cadena es un pangrama, es decir: si contiene todas las letras del alfabeto al menos una vez. Ten en cuenta que las cadenas pueden contener caracteres que no son letras."
   ]
  },
  {
   "cell_type": "code",
   "execution_count": 69,
   "metadata": {},
   "outputs": [
    {
     "name": "stdout",
     "output_type": "stream",
     "text": [
      "['P', 'a', 'c', 'k', 'm', 'y', 'b', 'o', 'x', 'w', 'i', 't', 'h', 'f', 'v', 'e', 'd', 'z', 'n', 'l', 'q', 'u', 'r', 'j', 'g', 's']\n",
      "26\n",
      "Es un panagrama inglés.\n"
     ]
    }
   ],
   "source": [
    "def english_pangram(string):\n",
    "#tu codigo aquí\n",
    "    def unique(lst_un):\n",
    "        trigger=False\n",
    "        lst_unic=[]\n",
    "        for numero in lst_un:\n",
    "            for unicos in lst_unic:\n",
    "                if numero==unicos :\n",
    "                    trigger=True\n",
    "            if trigger:\n",
    "                trigger=False\n",
    "            else:      \n",
    "                if \" \"!=numero and \".\"!=numero:\n",
    "                    lst_unic.append(numero)\n",
    "                else:\n",
    "                    pass     \n",
    "        return lst_unic\n",
    "        \n",
    "    def longitud_lista (list_sd):\n",
    "        output=0\n",
    "        for contenido in list_sd:\n",
    "            output+=1\n",
    "        return output\n",
    "        \n",
    "    print(unique(string))\n",
    "    print(longitud_lista(unique(string)))\n",
    "    if longitud_lista(unique(string))==26:                     #Lo introduzco en inglés ya que los acentos no supondrán un problema que en español sí\n",
    "        return print(\"Es un panagrama inglés.\")\n",
    "    else:\n",
    "        return print(\"No es un panagrama inglés.\")\n",
    "\n",
    "pangram=\"Pack my box with five dozen liquor jugs.\"\n",
    "english_pangram(pangram)\n",
    "\n",
    "    \n"
   ]
  },
  {
   "cell_type": "code",
   "execution_count": null,
   "metadata": {},
   "outputs": [],
   "source": [
    "# Para testear tu función\n",
    "test_pangram(pangram)"
   ]
  },
  {
   "cell_type": "markdown",
   "metadata": {},
   "source": [
    "## 11. Escribe una función que reciba una cadena de palabras separadas por comas y devuelva una cadena de palabras separadas por comas ordenadas alfabéticamente.\n",
    "\n",
    "`NOTA: Puedes usar sorted pero no split y definitivamente no join! 🤪`"
   ]
  },
  {
   "cell_type": "code",
   "execution_count": 74,
   "metadata": {
    "scrolled": true
   },
   "outputs": [
    {
     "name": "stdout",
     "output_type": "stream",
     "text": [
      "['Ahora', 'Buen', 'Caballero', 'Desterrado', 'Estrellado', 'Francés']\n"
     ]
    }
   ],
   "source": [
    "def sort_alpha(string):\n",
    "#tu codigo aquí\n",
    "    sorted_list=sorted(string)\n",
    "    return sorted_list\n",
    "\n",
    "cadena_test=[\"Ahora\",\"Desterrado\",\"Caballero\",\"Buen\",\"Francés\",\"Estrellado\"]\n",
    "print(sort_alpha(cadena_test))"
   ]
  },
  {
   "cell_type": "code",
   "execution_count": 87,
   "metadata": {},
   "outputs": [
    {
     "name": "stdout",
     "output_type": "stream",
     "text": [
      "Ahora,Buen,Caballero,Desterrado,Estrellado,Francés\n"
     ]
    }
   ],
   "source": [
    "def sort_alpha(string):\n",
    "        \n",
    "    def sep_palabras(string):\n",
    "        word=\"\"\n",
    "        word_list=[]\n",
    "        pos_list=0\n",
    "        for letter in string:\n",
    "            #print(letter)\n",
    "            if letter==\",\":\n",
    "                word_list.append(word)\n",
    "                pos_list+=1\n",
    "                word=\"\"\n",
    "            else:\n",
    "                word+=letter\n",
    "                #print(word)\n",
    "        word_list.append(word)\n",
    "        return word_list\n",
    "\n",
    "    def ordenar_palabras(lista):\n",
    "        return sorted(lista)\n",
    "\n",
    "    def junt_palabras(lista):\n",
    "        string=\"\"\n",
    "        for palabra in lista:\n",
    "            for caracter in palabra:\n",
    "                string+=caracter\n",
    "            string+=\",\"\n",
    "        return string[:-1]\n",
    "\n",
    "    return junt_palabras(ordenar_palabras(sep_palabras(string)))\n",
    "\n",
    "string=\"Ahora,Desterrado,Caballero,Buen,Francés,Estrellado\"\n",
    "print(sort_alpha(string))"
   ]
  },
  {
   "cell_type": "code",
   "execution_count": null,
   "metadata": {},
   "outputs": [],
   "source": [
    "# Para testear tu función \n",
    "test_alpha(sort_alpha)"
   ]
  },
  {
   "cell_type": "markdown",
   "metadata": {},
   "source": [
    "## 12. Escribe una función para verificar si una contraseña dada es fuerte (al menos 8 caracteres, al menos una minúscula, al menos una mayúscula, al menos un número y al menos un carácter especial). Debería devolver True si es fuerte y False si no lo es."
   ]
  },
  {
   "cell_type": "code",
   "execution_count": 150,
   "metadata": {},
   "outputs": [
    {
     "name": "stdout",
     "output_type": "stream",
     "text": [
      "Contiene caracter especial.\n",
      "Contiene mayúscula.\n",
      "Longitud > 7.\n",
      "NO Contiene número.\n"
     ]
    },
    {
     "data": {
      "text/plain": [
       "False"
      ]
     },
     "execution_count": 150,
     "metadata": {},
     "output_type": "execute_result"
    }
   ],
   "source": [
    "def check_pass(password):\n",
    "#tu codigo aquí\n",
    "    \n",
    "    def longitud_lista (list_sd):\n",
    "        output=0\n",
    "        for contenido in list_sd:\n",
    "            output+=1\n",
    "        return output    \n",
    "\n",
    "    def length_check(string):\n",
    "        output=False\n",
    "        if longitud_lista(string)>7:\n",
    "            output=True\n",
    "            print(\"Longitud > 7.\")\n",
    "        else:\n",
    "            print(\"NO Longitud > 7.\")\n",
    "        return output\n",
    "        \n",
    "    def mayus_check(password):\n",
    "        output=False\n",
    "        letras=[letras for letras in password if letras in \"ABCDEFGHIJKLMNOPQRSTUVWXYZ\"]\n",
    "        if letras!=[]:\n",
    "            output=True\n",
    "            print(\"Contiene mayúscula.\")\n",
    "        else:\n",
    "            print(\"NO Contiene mayúscula.\")\n",
    "        return output\n",
    "\n",
    "    def num_check(password):\n",
    "        output=False\n",
    "        letras=[letras for letras in password if letras in \"0123456789\"]\n",
    "        if letras!=[]:\n",
    "            output=True\n",
    "            print(\"Contiene número.\")\n",
    "        else:\n",
    "            print(\"NO Contiene número.\")\n",
    "        return output\n",
    "\n",
    "    def special_check(password):\n",
    "        output=False\n",
    "        letras=[letras for letras in password if letras in \"!@#$%^&*()-_=+[]{}|;:',.<>?/`~\\°¡¿§¶©®™°¬¦±•×÷¶‰∞∫√∑µ∆Ω≈≠≤≥¤†‡‰‖€£¥₩₽¢₱ƒ₹∞∂∏∑−∅∈∉⊂⊃⊆⊇∪∩∧∨¬→↔←↑↓↦⇔∇⊥⋅∫∬∮∞√∛∜∥≡≈≠≤≥⊂⊃⊆⊇⊕⊗⨁⨂∉⊢⊨⊣⟂∎≪≫⌊⌋⌈⌉∝∞∴∵∑∏∐∫∬∭∯∰∱⌘⌥⌫⌦⇧⇪↩⇤⇥↯⍛\"]\n",
    "        if letras!=[]:\n",
    "            output=True\n",
    "            print(\"Contiene caracter especial.\")\n",
    "        else:\n",
    "            print(\"NO Contiene caracter especial.\")\n",
    "        return output\n",
    "\n",
    "    return special_check(password)&mayus_check(password)&length_check(password)&num_check(password)\n",
    "\n",
    "    \n",
    "password=\"A&aaaaaaa&\"\n",
    "check_pass(password)"
   ]
  },
  {
   "cell_type": "code",
   "execution_count": null,
   "metadata": {},
   "outputs": [],
   "source": [
    "# Para testear tu función\n",
    "test_pass(check_pass)"
   ]
  }
 ],
 "metadata": {
  "kernelspec": {
   "display_name": "Python 3 (ipykernel)",
   "language": "python",
   "name": "python3"
  },
  "language_info": {
   "codemirror_mode": {
    "name": "ipython",
    "version": 3
   },
   "file_extension": ".py",
   "mimetype": "text/x-python",
   "name": "python",
   "nbconvert_exporter": "python",
   "pygments_lexer": "ipython3",
   "version": "3.12.4"
  },
  "vscode": {
   "interpreter": {
    "hash": "aee8b7b246df8f9039afb4144a1f6fd8d2ca17a180786b69acc140d282b71a49"
   }
  }
 },
 "nbformat": 4,
 "nbformat_minor": 4
}
